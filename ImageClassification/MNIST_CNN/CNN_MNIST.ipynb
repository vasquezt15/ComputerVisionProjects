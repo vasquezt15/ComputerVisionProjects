{
  "cells": [
    {
      "cell_type": "code",
      "execution_count": 1,
      "metadata": {
        "id": "DqmmgeuFb86l"
      },
      "outputs": [],
      "source": [
        "import torch\n",
        "import torch.nn as nn\n",
        "import torchvision.transforms as transforms\n",
        "from torch import optim\n",
        "from torch.autograd import Variable\n",
        "from torchvision import datasets\n",
        "import matplotlib.pyplot as plt\n",
        "import numpy as np\n",
        "from random import randint"
      ]
    },
    {
      "cell_type": "code",
      "execution_count": 2,
      "metadata": {
        "id": "o8IBKSLy-ZRd"
      },
      "outputs": [],
      "source": [
        "class CNN(nn.Module):\n",
        "  \"\"\" \n",
        "  Implements a Convolutional Neural Network for Classification\n",
        "    ZEROPAD2D -> CONV2D -> BATCHNORM -> RELU -> MAXPOOL -> FLATTEN -> DENSE\n",
        "  \"\"\"\n",
        "  def __init__(self):\n",
        "    super(CNN, self).__init__()\n",
        "    self.conv1 = nn.Sequential(\n",
        "        #input image shape 28x28x1 and apply convolutional layer with same padding\n",
        "        nn.Conv2d(in_channels=1,out_channels=8,kernel_size=5,stride=1,padding=2),\n",
        "        #new shape 28x28x8\n",
        "        nn.ReLU(),\n",
        "        #new shape 14x14x8\n",
        "        nn.MaxPool2d(kernel_size=2),\n",
        "    )\n",
        "    self.conv2 = nn.Sequential(\n",
        "        # input shape 14x14x8\n",
        "        nn.Conv2d(8, 32, 5, 1, 2),\n",
        "        # new shape 14x14x32\n",
        "        nn.ReLU(),\n",
        "        # 7x7x32\n",
        "        nn.MaxPool2d(2),\n",
        "    )\n",
        "    self.out = nn.Linear(32 * 7 * 7, 10)\n",
        "  def forward(self, x):\n",
        "    x = self.conv1(x)\n",
        "    x = self.conv2(x)\n",
        "    # flatten the output of conv2 to (batch_size, 32 * 7 * 7)\n",
        "    x = x.view(x.size(0), -1)\n",
        "    output = self.out(x)\n",
        "    return output\n",
        "\n",
        "  def train_model(self, num_epochs, train_loader, lr):\n",
        "    self.train()\n",
        "    optimizer = optim.SGD(self.parameters(), lr=lr)\n",
        "    loss_function = nn.CrossEntropyLoss()\n",
        "    total_step = len(train_loader)\n",
        "    for epoch in range(num_epochs):\n",
        "        for i, (images, labels) in enumerate(train_loader):\n",
        "            images = images.to(device)\n",
        "            labels = labels.to(device)\n",
        "            #compute the forward pass\n",
        "            output = self(images)\n",
        "            #compute the loss\n",
        "            loss = loss_function(output, labels)\n",
        "            # clear gradients for this training step\n",
        "            optimizer.zero_grad()\n",
        "            # backpropagation, compute gradients\n",
        "            loss.backward()\n",
        "            # apply gradients\n",
        "            optimizer.step()\n",
        "\n",
        "            if (i+1) % 100 == 0:\n",
        "                print ('Epoch [{}/{}], Step [{}/{}], Loss: {:.4f}'\n",
        "                      .format(epoch + 1, num_epochs, i + 1, total_step, loss.item()))\n",
        "                \n",
        "  def test_model(self, test_loader):\n",
        "    self.eval()\n",
        "    predictions = []\n",
        "    labels_list = []\n",
        "    with torch.no_grad():\n",
        "      for images, labels in test_loader:\n",
        "          images = images.to(device)\n",
        "          labels = labels.to(device)\n",
        "          \n",
        "          # Forward pass to get output/logits\n",
        "          outputs = self(images)\n",
        "          \n",
        "          # Predictions are the maximum value locations in logits dimension\n",
        "          _, predicted = torch.max(outputs.data, 1)\n",
        "          \n",
        "          # Collect the predictions and labels\n",
        "          predictions.extend(predicted.cpu().numpy())\n",
        "          labels_list.extend(labels.cpu().numpy())\n",
        "    correct = (np.array(predictions) == np.array(labels_list)).sum()\n",
        "    total = len(labels_list)\n",
        "    accuracy = correct / total\n",
        "    print(f'Accuracy of the network on the test images: {accuracy * 100:.2f}%') "
      ]
    },
    {
      "cell_type": "code",
      "execution_count": 3,
      "metadata": {
        "id": "DAhP3zmlglHc"
      },
      "outputs": [
        {
          "name": "stdout",
          "output_type": "stream",
          "text": [
            "Downloading http://yann.lecun.com/exdb/mnist/train-images-idx3-ubyte.gz\n",
            "Failed to download (trying next):\n",
            "HTTP Error 503: Service Unavailable\n",
            "\n",
            "Downloading https://ossci-datasets.s3.amazonaws.com/mnist/train-images-idx3-ubyte.gz\n",
            "Downloading https://ossci-datasets.s3.amazonaws.com/mnist/train-images-idx3-ubyte.gz to data/MNIST/raw/train-images-idx3-ubyte.gz\n"
          ]
        },
        {
          "name": "stderr",
          "output_type": "stream",
          "text": [
            "100.0%\n"
          ]
        },
        {
          "name": "stdout",
          "output_type": "stream",
          "text": [
            "Extracting data/MNIST/raw/train-images-idx3-ubyte.gz to data/MNIST/raw\n",
            "\n",
            "Downloading http://yann.lecun.com/exdb/mnist/train-labels-idx1-ubyte.gz\n",
            "Failed to download (trying next):\n",
            "HTTP Error 503: Service Unavailable\n",
            "\n",
            "Downloading https://ossci-datasets.s3.amazonaws.com/mnist/train-labels-idx1-ubyte.gz\n",
            "Downloading https://ossci-datasets.s3.amazonaws.com/mnist/train-labels-idx1-ubyte.gz to data/MNIST/raw/train-labels-idx1-ubyte.gz\n"
          ]
        },
        {
          "name": "stderr",
          "output_type": "stream",
          "text": [
            "100.0%\n"
          ]
        },
        {
          "name": "stdout",
          "output_type": "stream",
          "text": [
            "Extracting data/MNIST/raw/train-labels-idx1-ubyte.gz to data/MNIST/raw\n",
            "\n",
            "Downloading http://yann.lecun.com/exdb/mnist/t10k-images-idx3-ubyte.gz\n",
            "Failed to download (trying next):\n",
            "HTTP Error 503: Service Unavailable\n",
            "\n",
            "Downloading https://ossci-datasets.s3.amazonaws.com/mnist/t10k-images-idx3-ubyte.gz\n",
            "Downloading https://ossci-datasets.s3.amazonaws.com/mnist/t10k-images-idx3-ubyte.gz to data/MNIST/raw/t10k-images-idx3-ubyte.gz\n"
          ]
        },
        {
          "name": "stderr",
          "output_type": "stream",
          "text": [
            "100.0%\n"
          ]
        },
        {
          "name": "stdout",
          "output_type": "stream",
          "text": [
            "Extracting data/MNIST/raw/t10k-images-idx3-ubyte.gz to data/MNIST/raw\n",
            "\n",
            "Downloading http://yann.lecun.com/exdb/mnist/t10k-labels-idx1-ubyte.gz\n",
            "Failed to download (trying next):\n",
            "HTTP Error 503: Service Unavailable\n",
            "\n",
            "Downloading https://ossci-datasets.s3.amazonaws.com/mnist/t10k-labels-idx1-ubyte.gz\n",
            "Downloading https://ossci-datasets.s3.amazonaws.com/mnist/t10k-labels-idx1-ubyte.gz to data/MNIST/raw/t10k-labels-idx1-ubyte.gz\n"
          ]
        },
        {
          "name": "stderr",
          "output_type": "stream",
          "text": [
            "100.0%"
          ]
        },
        {
          "name": "stdout",
          "output_type": "stream",
          "text": [
            "Extracting data/MNIST/raw/t10k-labels-idx1-ubyte.gz to data/MNIST/raw\n",
            "\n",
            "The size of the train data torch.Size([60000, 28, 28])\n",
            "The size of the test data torch.Size([10000, 28, 28])\n"
          ]
        },
        {
          "name": "stderr",
          "output_type": "stream",
          "text": [
            "\n"
          ]
        }
      ],
      "source": [
        "#normalization\n",
        "transform1 = transforms.Compose([\n",
        "    transforms.ToTensor(),\n",
        "    transforms.Normalize((0.5,), (0.5,))  # Adjusted for one channel\n",
        "])\n",
        "\n",
        "#Load Data:\n",
        "# train_data = datasets.MNIST(root = 'data', train = True, transform = transforms.ToTensor(),download = True)\n",
        "# test_data = datasets.MNIST(root = 'data', train = False,transform = transforms.ToTensor())\n",
        "\n",
        "train_data_norm = datasets.MNIST(root = 'data', train = True, transform = transform1,download = True)\n",
        "test_data_norm = datasets.MNIST(root = 'data', train = False,transform = transform1)\n",
        "\n",
        "print(\"The size of the train data\", train_data_norm.data.size())\n",
        "print(\"The size of the test data\", test_data_norm.data.size())\n",
        "\n"
      ]
    },
    {
      "cell_type": "code",
      "execution_count": 5,
      "metadata": {
        "id": "lcjJb9pzgy0X"
      },
      "outputs": [
        {
          "data": {
            "image/png": "[encoded data removed]",
            "text/plain": [
              "<Figure size 640x480 with 1 Axes>"
            ]
          },
          "metadata": {},
          "output_type": "display_data"
        }
      ],
      "source": [
        "#display one of the training examples and its label\n",
        "plt.imshow(train_data_norm.data[0], cmap='gray')\n",
        "plt.title('%i' % train_data_norm.targets[0])\n",
        "plt.show()"
      ]
    },
    {
      "cell_type": "code",
      "execution_count": 6,
      "metadata": {
        "colab": {
          "base_uri": "https://localhost:8080/"
        },
        "id": "2P5kJ8mwhbxr",
        "outputId": "8fd96f95-8a78-46ec-c559-9e05577c8b2d"
      },
      "outputs": [
        {
          "name": "stdout",
          "output_type": "stream",
          "text": [
            "Epoch [1/10], Step [100/300], Loss: 1.7308\n",
            "Epoch [1/10], Step [200/300], Loss: 0.5805\n",
            "Epoch [1/10], Step [300/300], Loss: 0.3973\n",
            "Epoch [2/10], Step [100/300], Loss: 0.3930\n",
            "Epoch [2/10], Step [200/300], Loss: 0.2794\n",
            "Epoch [2/10], Step [300/300], Loss: 0.2465\n",
            "Epoch [3/10], Step [100/300], Loss: 0.1171\n",
            "Epoch [3/10], Step [200/300], Loss: 0.2274\n",
            "Epoch [3/10], Step [300/300], Loss: 0.2654\n",
            "Epoch [4/10], Step [100/300], Loss: 0.1565\n",
            "Epoch [4/10], Step [200/300], Loss: 0.1615\n",
            "Epoch [4/10], Step [300/300], Loss: 0.1187\n",
            "Epoch [5/10], Step [100/300], Loss: 0.1165\n",
            "Epoch [5/10], Step [200/300], Loss: 0.1459\n",
            "Epoch [5/10], Step [300/300], Loss: 0.1523\n",
            "Epoch [6/10], Step [100/300], Loss: 0.0851\n",
            "Epoch [6/10], Step [200/300], Loss: 0.0912\n",
            "Epoch [6/10], Step [300/300], Loss: 0.0593\n",
            "Epoch [7/10], Step [100/300], Loss: 0.0914\n",
            "Epoch [7/10], Step [200/300], Loss: 0.0955\n",
            "Epoch [7/10], Step [300/300], Loss: 0.0719\n",
            "Epoch [8/10], Step [100/300], Loss: 0.0976\n",
            "Epoch [8/10], Step [200/300], Loss: 0.0652\n",
            "Epoch [8/10], Step [300/300], Loss: 0.0844\n",
            "Epoch [9/10], Step [100/300], Loss: 0.0566\n",
            "Epoch [9/10], Step [200/300], Loss: 0.0853\n",
            "Epoch [9/10], Step [300/300], Loss: 0.0721\n",
            "Epoch [10/10], Step [100/300], Loss: 0.0629\n",
            "Epoch [10/10], Step [200/300], Loss: 0.0681\n",
            "Epoch [10/10], Step [300/300], Loss: 0.0906\n"
          ]
        }
      ],
      "source": [
        "# Parameters\n",
        "device = torch.device('cuda' if torch.cuda.is_available() else 'cpu')\n",
        "batch_size = 200\n",
        "learning_rate_1 = .01\n",
        "learning_rate_2 = .001\n",
        "num_epochs = 10\n",
        "\n",
        "#initialize dataLoader Objects\n",
        "train_loader_norm = torch.utils.data.DataLoader(train_data_norm,batch_size=batch_size,shuffle=True,num_workers=1)\n",
        "test_loader_norm = torch.utils.data.DataLoader(test_data_norm,batch_size=batch_size,shuffle=True,num_workers=1)\n",
        "\n",
        "#initialize and train model\n",
        "model = CNN()\n",
        "model.to(device)\n",
        "model.train_model(num_epochs, train_loader_norm, learning_rate_1)"
      ]
    },
    {
      "cell_type": "code",
      "execution_count": 7,
      "metadata": {
        "id": "LncC8m9uj2K-"
      },
      "outputs": [
        {
          "name": "stdout",
          "output_type": "stream",
          "text": [
            "Accuracy of the network on the test images: 97.85%\n"
          ]
        }
      ],
      "source": [
        "#test model\n",
        "model.test_model(test_loader_norm)"
      ]
    },
    {
      "cell_type": "code",
      "execution_count": 8,
      "metadata": {
        "colab": {
          "base_uri": "https://localhost:8080/",
          "height": 318
        },
        "id": "uVGXIq-D-Jmu",
        "outputId": "db4e3685-e6b4-4841-9bbb-cde015963d4c"
      },
      "outputs": [],
      "source": [
        "# Save the model checkpoint\n",
        "model_path = './MNIST_CNN.pth'\n",
        "torch.save(model.state_dict(), model_path)"
      ]
    }
  ],
  "metadata": {
    "colab": {
      "provenance": []
    },
    "kernelspec": {
      "display_name": "Python 3",
      "name": "python3"
    },
    "language_info": {
      "codemirror_mode": {
        "name": "ipython",
        "version": 3
      },
      "file_extension": ".py",
      "mimetype": "text/x-python",
      "name": "python",
      "nbconvert_exporter": "python",
      "pygments_lexer": "ipython3",
      "version": "3.9.19"
    }
  },
  "nbformat": 4,
  "nbformat_minor": 0
}
